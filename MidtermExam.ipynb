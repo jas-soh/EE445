{
 "cells": [
  {
   "cell_type": "code",
   "execution_count": 1,
   "id": "572b5d54-9c80-4956-953d-5cac3596338d",
   "metadata": {},
   "outputs": [],
   "source": [
    "import numpy as np\n",
    "import matplotlib.pyplot as plt\n",
    "import numpy.linalg as la\n",
    "\n",
    "import pandas as pd\n",
    "import seaborn as sns\n",
    "sns.set_theme(style=\"whitegrid\")\n",
    "\n",
    "fs=24\n",
    "lw=4\n",
    "\n",
    "rms = lambda x: np.sqrt(np.mean(np.square(x))) \n",
    "\n",
    "\n"
   ]
  },
  {
   "cell_type": "markdown",
   "id": "c1fb3fcc-1dd1-4873-8a4b-b6c208aa8235",
   "metadata": {},
   "source": [
    "# Midterm Exam"
   ]
  },
  {
   "cell_type": "markdown",
   "id": "7e0bf651-641e-489c-99e0-e0d9732d9f85",
   "metadata": {},
   "source": [
    "## Python Problem 3 [Problem 3 part e]: Least Squares Placement"
   ]
  },
  {
   "cell_type": "markdown",
   "id": "e0dee1a1-40e2-4b27-be18-fbc325eb8b3e",
   "metadata": {
    "tags": []
   },
   "source": [
    "### Problem Setup"
   ]
  },
  {
   "cell_type": "markdown",
   "id": "437c4747-f0c5-4f87-b4a2-9724d8ebf7d0",
   "metadata": {},
   "source": [
    "Let us recall the problem setup. The vectors $p_{1}, \\ldots, p_{N}$, each in $\\mathbb{R}^2$ represent the locations of $N$ factories. \n",
    "There are two types of factories: \"square\" factories and \"circle\" factories. The first $K$ factories are square factories, whose locations are fixed and given.  Our goal in the placement problem to choose the locations of the last $N-K$ factories i.e the circle factories. \n",
    "\n",
    "Our choice of the locations is guided by an undirected graph; an edge between two factories means we would like them to be close to each other. In least squares placement, we choose the locations $p_{K+1}, \\ldots, p_{N}$ so as to minimize the sum of the squares of the distances between factories connected by an edge,\n",
    "where the $L$ edges of the graph are given by the set $E$. For a specific location of square factories $p_1 \\ldots p_K$, we can frame our task as solving the following optimization:\n",
    "$$\n",
    "g(p_1, \\ldots p_K) = \\min_{p_{K+1}, \\ldots p_N} \\sum_{(i,j)\\in E}\\|p_i-p_j\\|^2\n",
    "$$\n",
    "\n",
    "In the code below, we have set up a specific instance of this problem."
   ]
  },
  {
   "cell_type": "code",
   "execution_count": 2,
   "id": "d0e972ac-afb1-4a52-a209-788df4d2bd0d",
   "metadata": {},
   "outputs": [],
   "source": [
    "N, K, L = 10, 5, 13\n",
    "\n",
    "edges = [(1,6), (2,6), (5,6), (1,7), (4,7),\n",
    "        (2,8), (3,8), (3,9), (5,9), (5,10), (7,9), (6, 10), (7,10)]\n",
    "\n",
    "\n",
    "p1 = np.array([0.55,0.15])\n",
    "p2 = np.array([0,0])\n",
    "p3 = np.array([0,1])\n",
    "p4 = np.array([1,1])\n",
    "p5 = np.array([1,0])\n",
    "\n",
    "fixed_locs = [p1, p2, p3, p4, p5]"
   ]
  },
  {
   "cell_type": "markdown",
   "id": "9f46480e-e756-445a-b02c-6dadf78694d7",
   "metadata": {},
   "source": [
    "### Solving the problem"
   ]
  },
  {
   "cell_type": "markdown",
   "id": "fd4881e8-92bd-47b6-8036-86915b4d437d",
   "metadata": {},
   "source": [
    "In parts (b) and (c), you reduced the problem to a least squares problem. Here, we set up and solve the least squares problem to obtain the optimal locations for the circle factories."
   ]
  },
  {
   "cell_type": "code",
   "execution_count": 3,
   "id": "4e6d00e4-defd-49e2-bc04-28188d859af0",
   "metadata": {},
   "outputs": [],
   "source": [
    "#TODO: Create Incidence Matrix\n",
    "B = [[0,0,0,0,0,1,1,0,0,0]\n",
    "    [0,0,0,0,0,1,0,1,0,0]\n",
    "    [0,0,0,0,0,0,0,1,1,0]\n",
    "    [0,0,0,0,0,0,1,0,0,0]\n",
    "    [0,0,0,0,0,1,0,0,1,0]\n",
    "    [1,1,0,0,1,0,0,0,0,1]\n",
    "    [1,0,0,1,0,0,0,0,1,1]\n",
    "    [0,1,1,0,0,0,0,0,0,0]\n",
    "    [0,0,1,0,0,0,1,0,0,0]\n",
    "    [0,0,0,0,1,1,1,0,0,0]]"
   ]
  },
  {
   "cell_type": "code",
   "execution_count": 12,
   "id": "12a3d11e-a560-4e25-bc04-fe98f39e425e",
   "metadata": {},
   "outputs": [],
   "source": [
    "#TODO: Set up least squares problem\n",
    "B_T = np.transpose(B)\n",
    "A = [0.55,0,0,1,1,0.15,0,1,1,0]\n",
    "\n",
    "\n",
    "# why did you make this test so hard :(\n",
    "\n"
   ]
  },
  {
   "cell_type": "code",
   "execution_count": 15,
   "id": "840e4e04-9296-4e41-8f12-6cb231717ccb",
   "metadata": {},
   "outputs": [],
   "source": [
    "#TODO: Solve least squares problem.\n",
    "#Hint: np.linalg.lstsq() might be helpful here.\n",
    "\n",
    "X = np.linalg.lstsq(A,B)\n",
    "u_m = X[0:5]\n",
    "u_v = X[6:10]\n",
    "\n",
    "# u_m, v_m =  # contains the solution to the location placement problem"
   ]
  },
  {
   "cell_type": "markdown",
   "id": "229b3de0-565b-422a-a5f6-d2b835676b02",
   "metadata": {},
   "source": [
    "### Plotting the solution"
   ]
  },
  {
   "cell_type": "markdown",
   "id": "5e7d5159-1f5e-4cbc-9836-6af58a6a1b33",
   "metadata": {},
   "source": [
    "Now, we want to plot the locations we solved for above. Show the graph edges as lines connecting the locations.\n",
    "\n",
    "Below the variables `u_m` and `v_m` should contain the solution to the locations from above. "
   ]
  },
  {
   "cell_type": "code",
   "execution_count": null,
   "id": "3fb65d7c-6b7e-4f10-b88d-893c90428be6",
   "metadata": {},
   "outputs": [],
   "source": [
    "chosen_locs = []\n",
    "for i in range(len(u_m)):\n",
    "    new_loc = [u_m[i], v_m[i]]\n",
    "    chosen_locs.append(new_loc)\n",
    "    \n",
    "fixed_locs, chosen_locs = np.array(fixed_locs), np.array(chosen_locs)\n",
    "all_locs = np.concatenate((fixed_locs, chosen_locs))\n",
    "\n",
    "plt.figure(figsize=(10,6))\n",
    "plt.tick_params(labelsize=fs-2)\n",
    "\n",
    "for i in range(len(all_locs)):\n",
    "    plt.annotate(str(i+1), (all_locs[i, 0] + 0.01, all_locs[i, 1]+0.02), fontsize=fs-4,zorder=2)\n",
    "\n",
    "for (source, dest) in edges:\n",
    "    source_x, source_y = all_locs[source - 1][0], all_locs[source - 1][1]\n",
    "    dest_x, dest_y = all_locs[dest - 1][0], all_locs[dest - 1][1]\n",
    "    plt.plot([source_x, dest_x], [source_y, dest_y],color = 'xkcd:grey', linewidth=2,zorder=1)\n",
    "    \n",
    "plt.scatter(fixed_locs[:, 0], fixed_locs[:, 1], marker = 's', color = 'red', s = 100,zorder=2)\n",
    "plt.scatter(chosen_locs[:, 0], chosen_locs[:, 1], s = 120,zorder=2)\n",
    "\n",
    "plt.xlim([-0.1,1.1])\n",
    "plt.ylim([-0.1,1.1])\n",
    "plt.savefig(\"problem3e_plot.png\")"
   ]
  },
  {
   "cell_type": "markdown",
   "id": "cecc8b0a-5eaf-4118-a651-2c13733e5ce5",
   "metadata": {},
   "source": [
    "## Python Problem 4 [Problem 4 part c]: Recursive Least squares\n",
    "You are asked to implement recursive least squares using the formula given in the following equations:\n",
    "\\begin{align}\n",
    "    \\hat{\\theta}_{m+1}&=\\hat{\\theta}_m+R_{m+1}^{-1}x^{(m+1)}(y^{(m+1)}-(x^{(m+1)})^\\top\\hat{\\theta}_m)\\label{eq:theta}\\\\\n",
    "    R_{m+1}&=R_{m}+x^{(m+1)}(x^{(m+1)})^\\top\\label{eq:R}\n",
    "\\end{align}\n",
    "where \n",
    "$R_{m+1}:=\\sum_{k=1}^{m+1}x^{(k)}(x^{(k)})^\\top.$\n",
    "\n",
    "You will test it on a randomly generated data set, and on the housing data set. The housing data set is provided with the exam materials but you can find it on the course website [here](https://ratlifflj.github.io/S22-445/jpyntbks/module2/data/housing.cvs)."
   ]
  },
  {
   "cell_type": "markdown",
   "id": "ed0f3e4c-3f74-4374-8744-cd200535a819",
   "metadata": {},
   "source": [
    "### Part 1 [Random Least Squares Instance]\n",
    "#### Part 1a\n",
    "Implement the recursive least squares method as a function. It should take in the following as inputs:\n",
    "1.  size of the data set over which you will run the algorithm $n$,\n",
    "2.  an initial value for $R_{0}$ and an initial value for $\\hat{\\theta}_0$, \n",
    "3.  The data $X$ you will use to recursively estimate the value of $\\theta$\n",
    "4.  $N$ which is the number of features you use to compute $R_0$\n",
    "\n",
    "It should return a list of $R_m$ and $\\hat{\\theta}_m$ values. \n",
    "\n",
    "Towards this end, you will need generate a random least squares instance (the code is given below). Then to ensure $R_0$ is invertible, we will take the first $N=500$ rows of $X$ and compute\n",
    "$$R_0=\\sum_{i=1}^Nx^{(i)}(x^{(i)})^\\top\\quad\\text{and}\\quad \\hat{\\theta}_0=(R_0)^{-1}\\sum_{i=1}^Nx^{(i)}y^{(i)}.$$\n",
    "This means that since $X\\in \\mathbb{R}^{m\\times 2}$ (we have two features and $m=5000$ data points), we have $n=m-N$. That is, we will run the recursive least squares method for the remaining feature vectors. \n",
    "\n",
    "You are encouraged to play around with the size of the data $m$, the number $N$ of initial feature vectors you take to compute $R_0$, and the random seed. However, you do not have to submit anything on that. Just submit the notebook (and printed pdf) for the values described above. "
   ]
  },
  {
   "cell_type": "code",
   "execution_count": null,
   "id": "071ccb40-7dcb-48f3-9367-b293239fcd3c",
   "metadata": {},
   "outputs": [],
   "source": [
    "np.random.seed(20)\n",
    "N=500\n",
    "m=5000\n",
    "n=m-N\n",
    "\n",
    "### Generate a least squares instance\n",
    "x = np.linspace(0, 1, m)\n",
    "theta_true=[1,5, 3] # true theta, i.e. your recursive least squares estimate should converge to this\n",
    "y = theta_true[0]+x*theta_true[1]+theta_true[2]*x**2+np.random.normal(loc=0.0,scale=1.5, size=len(x))\n",
    "\n",
    "# turn y into a column vector\n",
    "y = y[:, np.newaxis]\n",
    "\n",
    "# assemble the data matrix X\n",
    "# this is just the univariate fit from Mod2\n",
    "X = np.vstack([np.vstack([np.ones(len(x)),x]), x**2]).T\n",
    "\n",
    "print(\"dimension of X : \", np.shape(X))\n",
    "\n",
    "## write your code to compute R_0\n",
    "R0= # enter code here\n",
    "print(\"inv(R0) : \\n\", la.inv(R0))\n",
    "\n",
    "## here we can print out the condition number (this will be discussed in detail in Mod3)\n",
    "## the condition number is a measure of how \"invertible\" a matrix is. You want it to be small\n",
    "## if you play around with the size of N relative to m, you can see how adding more vectors effects the condition number\n",
    "print(la.cond(R0))\n",
    "\n",
    "## write your code to compute theta_0\n",
    "theta0= #enter code here\n",
    "print(\"initial theta : \", theta0)\n",
    "\n",
    "def RLSQ(theta0, R0, n, N=N):\n",
    "    ## Fill in code here to implement recursive least squares\n",
    "    return thetas, Rs\n",
    "\n",
    "# Run RLSQ\n",
    "thetas,Rs=RLSQ(theta0,R0,n)   \n"
   ]
  },
  {
   "cell_type": "markdown",
   "id": "6f2273bd-3fca-4745-921f-7ba73b24be64",
   "metadata": {},
   "source": [
    "#### Part 1b Compute the error and plot it\n",
    "Run least squares on the random data instance and take the output of $\\hat{\\theta}_m$ and computer the error for each iterate:\n",
    "$$\\|\\theta^{\\tt lsq}-\\hat{\\theta}_{m}\\|_2\\quad \\text{for each}\\ m\\in\\{0,\\ldots, n\\}$$\n",
    "where $\\theta^{\\tt lsq}$ is the least squares approximate solution. \n",
    "And, then plot it. Print out the least squares solution (e.g., obtained with numpy or the least squares formula) you computed and print out the recursive least squares solution you computed."
   ]
  },
  {
   "cell_type": "code",
   "execution_count": 2,
   "id": "f6b21a5e-3e33-4ed7-9d4f-ecc6d58e5009",
   "metadata": {},
   "outputs": [],
   "source": [
    "# Compute the actual least squares theta\n",
    "# you will need this to compute the error\n",
    "theta_lsq= np.linalg(y,x) # compute least squares solution using analytic formula or numpy.linalg\n",
    "\n",
    "error= np.linalg.norm(theta_true - thetas) #compute the error using the output of RLSQ (thetas)\n",
    "\n",
    "\n",
    "# Plot it\n",
    "plt.figure(figsize=(8,5))\n",
    "plt.tick_params(labelsize=fs-2)\n",
    "plt.plot(error, linewidth=lw, color='xkcd:tomato red')\n",
    "plt.xlabel('iterations', fontsize=fs)\n",
    "\n",
    "# print out values\n",
    "print(\"True theta value                 : \", theta_true)\n",
    "print(\"Numpy Least Squares Solution     : \", theta_lsq.T[0])\n",
    "print(\"Recursive Least squares solution : \", thetas[-1])"
   ]
  },
  {
   "cell_type": "markdown",
   "id": "5d478dc4-97cd-4e8d-b0b5-0a669dd80e89",
   "metadata": {},
   "source": [
    "#### Part 1c [Plot the data and the estimated line]\n",
    "Now plot the line you estimated with the RLSQ function and the data."
   ]
  },
  {
   "cell_type": "code",
   "execution_count": 3,
   "id": "1d65c856-9cc4-4afd-b015-5e28b4588dea",
   "metadata": {},
   "outputs": [],
   "source": [
    "line=# fill in code to compute f(x) using the final value of hat{theta}_m computed from RLSQ\n",
    "\n",
    "plt.figure(figsize=(8,6))\n",
    "plt.tick_params(labelsize=fs-2)\n",
    "plt.xlabel('x',fontsize=fs-2)\n",
    "plt.ylabel('y',fontsize=fs-2)\n",
    "plt.plot(x,y, '.', color='xkcd:red orange')\n",
    "plt.plot(x,line, linewidth=lw, color='xkcd:bright blue')"
   ]
  },
  {
   "cell_type": "markdown",
   "id": "97f3a5b0-111f-405b-884c-8f67e4d73a57",
   "metadata": {},
   "source": [
    "### Part 2 [Housing Data]\n",
    "Now you will run your recursive least square method on the housing data. First load it, and then using the price as $y$, and area, number of beds, and a constant as features, create a least squares problem. Run your method on it, and plot the error as in part 1b."
   ]
  },
  {
   "cell_type": "code",
   "execution_count": 112,
   "id": "6885b5b0-f66a-420c-835b-5bbda2acb6d7",
   "metadata": {},
   "outputs": [
    {
     "data": {
      "text/html": [
       "<div>\n",
       "<style scoped>\n",
       "    .dataframe tbody tr th:only-of-type {\n",
       "        vertical-align: middle;\n",
       "    }\n",
       "\n",
       "    .dataframe tbody tr th {\n",
       "        vertical-align: top;\n",
       "    }\n",
       "\n",
       "    .dataframe thead th {\n",
       "        text-align: right;\n",
       "    }\n",
       "</style>\n",
       "<table border=\"1\" class=\"dataframe\">\n",
       "  <thead>\n",
       "    <tr style=\"text-align: right;\">\n",
       "      <th></th>\n",
       "      <th>area</th>\n",
       "      <th>baths</th>\n",
       "      <th>beds</th>\n",
       "      <th>condo</th>\n",
       "      <th>location</th>\n",
       "      <th>price</th>\n",
       "    </tr>\n",
       "  </thead>\n",
       "  <tbody>\n",
       "    <tr>\n",
       "      <th>0</th>\n",
       "      <td>0.941</td>\n",
       "      <td>2</td>\n",
       "      <td>2</td>\n",
       "      <td>1</td>\n",
       "      <td>2</td>\n",
       "      <td>94.905</td>\n",
       "    </tr>\n",
       "    <tr>\n",
       "      <th>1</th>\n",
       "      <td>1.146</td>\n",
       "      <td>2</td>\n",
       "      <td>3</td>\n",
       "      <td>0</td>\n",
       "      <td>2</td>\n",
       "      <td>98.937</td>\n",
       "    </tr>\n",
       "    <tr>\n",
       "      <th>2</th>\n",
       "      <td>0.909</td>\n",
       "      <td>2</td>\n",
       "      <td>3</td>\n",
       "      <td>0</td>\n",
       "      <td>2</td>\n",
       "      <td>100.309</td>\n",
       "    </tr>\n",
       "    <tr>\n",
       "      <th>3</th>\n",
       "      <td>1.289</td>\n",
       "      <td>2</td>\n",
       "      <td>3</td>\n",
       "      <td>0</td>\n",
       "      <td>3</td>\n",
       "      <td>106.250</td>\n",
       "    </tr>\n",
       "    <tr>\n",
       "      <th>4</th>\n",
       "      <td>1.020</td>\n",
       "      <td>1</td>\n",
       "      <td>3</td>\n",
       "      <td>0</td>\n",
       "      <td>3</td>\n",
       "      <td>107.502</td>\n",
       "    </tr>\n",
       "  </tbody>\n",
       "</table>\n",
       "</div>"
      ],
      "text/plain": [
       "    area  baths  beds  condo  location    price\n",
       "0  0.941      2     2      1         2   94.905\n",
       "1  1.146      2     3      0         2   98.937\n",
       "2  0.909      2     3      0         2  100.309\n",
       "3  1.289      2     3      0         3  106.250\n",
       "4  1.020      1     3      0         3  107.502"
      ]
     },
     "execution_count": 112,
     "metadata": {},
     "output_type": "execute_result"
    }
   ],
   "source": [
    "np.random.seed(20)\n",
    "file_loc= \"../lecture-ntbks/data/housing.csv\" # enter the location of housing.csv as a string. For example \"./housing.csv\" if its in the current directory.\n",
    "df=pd.read_csv(file_loc)\n",
    "\n",
    "\n",
    "price = df[\"price\"]; \n",
    "area  = np.asarray(df[\"area\"]); \n",
    "beds  = np.asarray(df[\"beds\"]);\n",
    "\n",
    "# show head of df\n",
    "df.head()"
   ]
  },
  {
   "cell_type": "code",
   "execution_count": 4,
   "id": "7d48e4db-0222-4982-ae07-7fc91521855c",
   "metadata": {},
   "outputs": [],
   "source": [
    "\n",
    "X =  # create the data matrix using a vector of 1's for the constant, areas and beds\n",
    "y =  # set y as the price vector\n",
    "\n",
    "# set m to the number of rows of X\n",
    "m=np.shape(X)[0]\n",
    "print(\"m : \", m)\n",
    "# set N\n",
    "N=5\n",
    "# define number of iterations to run RLSQ\n",
    "n=m-N\n",
    "print(\"n : \", n)\n",
    "\n",
    "# Compute R0 using the first N features\n",
    "R0=# Fill this in \n",
    "print(la.cond(R0))\n",
    "\n",
    "# compute theta0 using R0\n",
    "theta0= # fill this in\n",
    "\n",
    "# Run RLSQ\n",
    "thetas,Rs=RLSQ(theta0,R0,n, N=N)\n",
    "\n",
    "# Compute the actual least squares theta\n",
    "theta_lsq= # fill this in\n",
    "print(np.shape(theta_lsq))\n",
    "\n",
    "# compute the error and plot it\n",
    "error= # Fill this in \n",
    "print(len(error))\n",
    "plt.figure(figsize=(8,5))\n",
    "plt.tick_params(labelsize=fs-2)\n",
    "plt.plot(error, linewidth=lw, color='xkcd:tomato red')\n",
    "plt.xlabel('iterations', fontsize=fs)\n",
    "\n",
    "\n",
    "print(\"Numpy Least Squares Solution     : \", theta_lsq)\n",
    "print(\"Recursive Least squares solution : \", thetas[-1])\n",
    "    \n",
    "\n"
   ]
  },
  {
   "cell_type": "code",
   "execution_count": null,
   "id": "2197636a-780f-44f4-8793-cd97734508d2",
   "metadata": {},
   "outputs": [],
   "source": []
  }
 ],
 "metadata": {
  "kernelspec": {
   "display_name": "Python 3 (ipykernel)",
   "language": "python",
   "name": "python3"
  },
  "language_info": {
   "codemirror_mode": {
    "name": "ipython",
    "version": 3
   },
   "file_extension": ".py",
   "mimetype": "text/x-python",
   "name": "python",
   "nbconvert_exporter": "python",
   "pygments_lexer": "ipython3",
   "version": "3.9.6"
  }
 },
 "nbformat": 4,
 "nbformat_minor": 5
}
