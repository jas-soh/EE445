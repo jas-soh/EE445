{
 "cells": [
  {
   "cell_type": "code",
   "execution_count": 162,
   "metadata": {},
   "outputs": [],
   "source": [
    "import numpy as np\n",
    "import matplotlib.pyplot as plt\n",
    "import scipy.io as spio"
   ]
  },
  {
   "cell_type": "markdown",
   "metadata": {},
   "source": [
    "In an alternative universe, Jaina is a mage learning how to make objects fly. She wants to test how long she can fly a collection of magical carpets.\n",
    "\n",
    "\n",
    "She has n training carpets – with masses given by $x_1, x_2, \\ldots x_n$ – and flies these carpets once to collect training data. The experimental flight time of carpet $i$ is given by $y_i$. She believes that the flight time is well approximated by a polynomial function of the mass\n",
    "\n",
    "$$ y_i ≈ w_0 + w_1 x_i + w_2 x_i^2 \\cdots + w_D x_i^D$$\n",
    "\n",
    "where her goal is to fit a polynomial of degree D to this data. Include all text responses and plots\n",
    "in your submission."
   ]
  },
  {
   "cell_type": "markdown",
   "metadata": {},
   "source": [
    "## Part (a): Formulate LS problem"
   ]
  },
  {
   "cell_type": "markdown",
   "metadata": {},
   "source": [
    "Show how Jaina’s problem can be formulated as a linear regression problem. For this part, you can either type the math in latex onto the python notebook, or attach the handwritten solution to the submitted pdf."
   ]
  },
  {
   "cell_type": "markdown",
   "metadata": {},
   "source": [
    "## Part (b): Implement LS problem for fixed D"
   ]
  },
  {
   "cell_type": "markdown",
   "metadata": {},
   "source": [
    "You are given data of the masses $\\{x_i\\}_{i=1}^n$ and flying times $\\{y_i\\}_{i=1}^n$ in the “x_train” and “y_train” keys of the file 1D poly.mat with the masses centered and normalized to lie in the range [−1,1]. \n",
    "\n",
    "\n",
    "Write a script to do a least-squares fit (taking care to include a constant term) of a polynomial function of degree fixed $D=5$ to the data. Letting $\\hat{f}$ denote the fitted polynomial, report the average training error \n",
    "$ R(D) = \\frac{1}{n} \\sum_{i=1}^n (y_i − \\hat{f}(x_i))^2.$ You may not use any library other than numpy and numpy.linalg for computation."
   ]
  },
  {
   "cell_type": "code",
   "execution_count": 163,
   "metadata": {},
   "outputs": [
    {
     "name": "stdout",
     "output_type": "stream",
     "text": [
      "w:\n",
      " [ 9.58634937  6.09015945  3.87983398  7.35821231 13.50335457  2.27020208]\n",
      "\n",
      "Error: 0.44379265231920206\n",
      "\n",
      "y_train:\n",
      " [11.43517643  9.15939136  7.79121686  7.64604858  7.2842167   7.64649196\n",
      "  8.2666563   7.86691196  8.30315368  9.72401144  9.50953025 10.25750217\n",
      " 11.22305493 14.01833207 16.10368296 15.80407223 21.97631689 25.46609601\n",
      " 34.03048174 42.56554904]\n",
      "\n",
      "predicted:\n",
      " [11.25096407  9.32502787  8.12520354  7.49777811  7.302422    7.41570974\n",
      "  7.73464066  8.18015955  8.7006774   9.27559204  9.91880886 10.68226147\n",
      " 11.65943244 12.98887395 14.85772847 17.5052495  21.22632219 26.37498409\n",
      " 33.36794583 42.68811177]\n"
     ]
    }
   ],
   "source": [
    "data = spio.loadmat('1D_poly.mat', squeeze_me=True) \n",
    "x_train = np.array(data['x_train'])\n",
    "y_train = np.array(data['y_train']).T\n",
    "D = 5\n",
    "\n",
    "# TODO: Your solution for part (b) here\n",
    "x_arr = []\n",
    "for x in x_train:\n",
    "    temp = []\n",
    "    for i in range(D+1):\n",
    "        temp.append(x**i)\n",
    "    x_arr.append(temp)\n",
    "x_arr = np.array(x_arr)\n",
    "\n",
    "w = np.linalg.lstsq(x_arr,y_train,rcond=None)[0]\n",
    "print(\"w:\\n\",w)\n",
    "\n",
    "# find average training error\n",
    "error = np.sum((y_train - np.dot(x_arr,w))**2) / len(y_train)\n",
    "\n",
    "print(\"\\nError:\",error)\n",
    "\n",
    "print(\"\\ny_train:\\n\",y_train)\n",
    "print(\"\\npredicted:\\n\",np.dot(x_arr,w))"
   ]
  },
  {
   "cell_type": "markdown",
   "metadata": {},
   "source": [
    "## Part (c): Study the effect of D"
   ]
  },
  {
   "cell_type": "markdown",
   "metadata": {},
   "source": [
    "You are given data of the masses ${x_i}_{i=1}^n$ and flying times ${x_i}_{i=1}^n$ in the “x_train” and “y_train” keys of the file 1D poly.mat with the masses centered and normalized to lie in the range [−1,1]. \n",
    "\n",
    "\n",
    "Write a script to do a least-squares fit (taking care to include a constant term) of a polynomial function of degree $D$ to the data. Letting $f_D$ denote the fitted polynomial, report the average training error \n",
    "$ R(D) = \\frac{1}{n} \\sum_{i=1}^n (y_i − f_D(x_i))^2$ against D in the range $D \\in \\{1,2,3,...,n − 1\\}$. You may not use any library other than numpy and numpy.linalg for computation."
   ]
  },
  {
   "cell_type": "code",
   "execution_count": 164,
   "metadata": {},
   "outputs": [
    {
     "name": "stdout",
     "output_type": "stream",
     "text": [
      "\n",
      "Error: [8.87821855e+01 3.45721666e+01 4.99775029e+00 1.93329132e+00\n",
      " 4.54755075e-01 4.43792652e-01 4.25175816e-01 4.13277674e-01\n",
      " 3.77384634e-01 3.59758018e-01 3.57971335e-01 3.51709106e-01\n",
      " 3.51055058e-01 3.12296085e-01 1.01849068e-01 5.00423473e-02\n",
      " 3.24154618e-02 8.97826374e-03 8.57340109e-03]\n"
     ]
    }
   ],
   "source": [
    "n = 20\n",
    "err_train = np.zeros(n - 1)\n",
    "\n",
    "# TODO: Your solution for part (c) here\n",
    "data = spio.loadmat('1D_poly.mat', squeeze_me=True) \n",
    "x_train = np.array(data['x_train'])\n",
    "y_train = np.array(data['y_train']).T\n",
    "\n",
    "w_arr = []\n",
    "for j in range(1,n):\n",
    "    D = j-1\n",
    "    # print(j)\n",
    "    x_arr = []\n",
    "    for x in x_train:\n",
    "        temp = []\n",
    "        for i in range(D+1):\n",
    "            temp.append(x**i)\n",
    "        x_arr.append(temp)\n",
    "    x_arr = np.array(x_arr)\n",
    "\n",
    "    w_arr.append(np.linalg.lstsq(x_arr,y_train,rcond=None)[0])\n",
    "\n",
    "    # find average training error\n",
    "    err_train[j-1] = np.sum((y_train - np.dot(x_arr,w_arr[D]))**2) / len(y_train)\n",
    "\n",
    "\n",
    "#----------------------\n",
    "print(\"\\nError:\",err_train)"
   ]
  },
  {
   "cell_type": "markdown",
   "metadata": {},
   "source": [
    "## Part (d): Interpreting the plot"
   ]
  },
  {
   "cell_type": "markdown",
   "metadata": {},
   "source": [
    "How does the average training error behave as a function of D, and why? What happens\n",
    "if you try to fit a polynomial of degree n with a standard matrix inversion method? Include your answer in text here in the python notebook."
   ]
  },
  {
   "cell_type": "code",
   "execution_count": 165,
   "metadata": {},
   "outputs": [
    {
     "data": {
      "image/png": "[encoded data removed]",
      "text/plain": [
       "<Figure size 432x288 with 1 Axes>"
      ]
     },
     "metadata": {
      "needs_background": "light"
     },
     "output_type": "display_data"
    }
   ],
   "source": [
    "D = n-1\n",
    "plt.plot(np.arange(0,D), err_train)\n",
    "plt.show()"
   ]
  },
  {
   "cell_type": "markdown",
   "metadata": {},
   "source": [
    "As D increases, the average training error decreases "
   ]
  },
  {
   "cell_type": "markdown",
   "metadata": {},
   "source": [
    "## Part (e): Test Error"
   ]
  },
  {
   "cell_type": "markdown",
   "metadata": {},
   "source": [
    "Jaina has taken Mystical Learning 445, and so decides that she needs to run another experiment before deciding that her prediction is true. \n",
    "\n",
    "\n",
    "She runs another fresh experiment of flight times using the same carpets, to obtain the data with key “y_fresh” in 1D_POLY.MAT.\n",
    "\n",
    "Denoting the fresh flight time of peach i by $\\tilde{y}_i$, plot the average error $$R(D) = \\frac{1}{n} \\sum_{i=1}^n (\\tilde{y}_i − f_D(x_i))^2$$\n",
    "\n",
    "for the same values of D as in part (c) using the polynomial approximations $f_D$ also from the previous part."
   ]
  },
  {
   "cell_type": "code",
   "execution_count": 166,
   "metadata": {},
   "outputs": [
    {
     "name": "stdout",
     "output_type": "stream",
     "text": [
      "\n",
      "Error: [84.44093003 35.76558697  6.36862586  4.24748382  1.64204005  1.69443584\n",
      "  1.70328865  1.69571952  1.74378079  1.74604462  1.70856745  1.73724792\n",
      "  1.76625405  1.80539759  2.03063753  1.90848547  2.04259668  2.0008582\n",
      "  1.9912998 ]\n"
     ]
    },
    {
     "data": {
      "image/png": "[encoded data removed]",
      "text/plain": [
       "<Figure size 432x288 with 1 Axes>"
      ]
     },
     "metadata": {
      "needs_background": "light"
     },
     "output_type": "display_data"
    }
   ],
   "source": [
    "data = spio.loadmat('1D_poly.mat', squeeze_me=True) \n",
    "x_train = np.array(data['x_train'])\n",
    "y_train = np.array(data['y_train']).T\n",
    "y_fresh = np.array(data['y_fresh']).T\n",
    "n = 20 #max degree\n",
    "err_fresh = np.zeros(n - 1)\n",
    "\n",
    "#TODO: Your solution for part (e) here\n",
    "for j in range(1,n):\n",
    "    D = j-1\n",
    "    # print(j)\n",
    "    x_arr = []\n",
    "    for x in x_train:\n",
    "        temp = []\n",
    "        for i in range(D+1):\n",
    "            temp.append(x**i)\n",
    "        x_arr.append(temp)\n",
    "    x_arr = np.array(x_arr)\n",
    "\n",
    "    # w = np.linalg.lstsq(x_arr,y_fresh,rcond=None)[0]\n",
    "\n",
    "    # find average training error\n",
    "    err_fresh[j-1] = np.sum((y_fresh - np.dot(x_arr,w_arr[D]))**2) / len(y_fresh)\n",
    "\n",
    "\n",
    "#----------------------\n",
    "print(\"\\nError:\",err_fresh)\n",
    "\n",
    "plt.plot(np.arange(1,n),err_fresh,color='red')\n",
    "plt.plot(np.arange(1,n),err_train,color='blue')\n",
    "\n",
    "plt.show()\n"
   ]
  },
  {
   "cell_type": "markdown",
   "metadata": {},
   "source": [
    "## Part (f): Comparison between the two plots"
   ]
  },
  {
   "cell_type": "markdown",
   "metadata": {},
   "source": [
    "How does the plot above differ from the plot in (c) and why? How do you propose using the two plots from parts (c) and (e) to “select” the right polynomial model for Jaina? Include your answer in text here in the python notebook.\n",
    "\n",
    "Hint: Find the *elbow point* in the plot above."
   ]
  },
  {
   "cell_type": "code",
   "execution_count": null,
   "metadata": {},
   "outputs": [],
   "source": []
  }
 ],
 "metadata": {
  "kernelspec": {
   "display_name": "Python 3",
   "language": "python",
   "name": "python3"
  },
  "language_info": {
   "codemirror_mode": {
    "name": "ipython",
    "version": 3
   },
   "file_extension": ".py",
   "mimetype": "text/x-python",
   "name": "python",
   "nbconvert_exporter": "python",
   "pygments_lexer": "ipython3",
   "version": "3.9.6"
  }
 },
 "nbformat": 4,
 "nbformat_minor": 4
}
