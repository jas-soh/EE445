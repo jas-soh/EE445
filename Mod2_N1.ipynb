{
 "cells": [
  {
   "cell_type": "code",
   "execution_count": 1,
   "metadata": {},
   "outputs": [],
   "source": [
    "import numpy as np\n",
    "import matplotlib.pyplot as plt\n",
    "from scipy import io"
   ]
  },
  {
   "cell_type": "markdown",
   "metadata": {},
   "source": [
    "# Warmup: Least Squares with 2d synthetic data"
   ]
  },
  {
   "cell_type": "markdown",
   "metadata": {},
   "source": [
    "We will start with a simple least squares example on synthetic data with the goal of visualization.\n",
    "\n",
    "(a) Create a vector of inputs x with 101 regularly-spaced entries between 0 and 1. \n",
    "\n",
    "Create a vector of labels y = 1 + x + x*z, where z is drawn from the uniform distribution on the half open interval [0, 1)."
   ]
  },
  {
   "cell_type": "code",
   "execution_count": 2,
   "metadata": {},
   "outputs": [
    {
     "name": "stdout",
     "output_type": "stream",
     "text": [
      "x: [0.   0.01 0.02 0.03 0.04 0.05 0.06 0.07 0.08 0.09 0.1  0.11 0.12 0.13\n",
      " 0.14 0.15 0.16 0.17 0.18 0.19 0.2  0.21 0.22 0.23 0.24 0.25 0.26 0.27\n",
      " 0.28 0.29 0.3  0.31 0.32 0.33 0.34 0.35 0.36 0.37 0.38 0.39 0.4  0.41\n",
      " 0.42 0.43 0.44 0.45 0.46 0.47 0.48 0.49 0.5  0.51 0.52 0.53 0.54 0.55\n",
      " 0.56 0.57 0.58 0.59 0.6  0.61 0.62 0.63 0.64 0.65 0.66 0.67 0.68 0.69\n",
      " 0.7  0.71 0.72 0.73 0.74 0.75 0.76 0.77 0.78 0.79 0.8  0.81 0.82 0.83\n",
      " 0.84 0.85 0.86 0.87 0.88 0.89 0.9  0.91 0.92 0.93 0.94 0.95 0.96 0.97\n",
      " 0.98 0.99 1.  ]\n",
      "y: [1.         1.0152138  1.0251185  1.0383315  1.05688997 1.08684001\n",
      " 1.09580154 1.10842533 1.11051771 1.11092201 1.10701968 1.14393084\n",
      " 1.14855781 1.2294822  1.27525091 1.28657954 1.26205498 1.27594664\n",
      " 1.31213152 1.34976839 1.3982791  1.25054567 1.41688223 1.30795981\n",
      " 1.30336686 1.35637427 1.31195553 1.44825906 1.39532355 1.55698553\n",
      " 1.47723409 1.6062636  1.6271081  1.64181824 1.48503243 1.44178003\n",
      " 1.4369312  1.60887946 1.61378591 1.76514964 1.75589746 1.49738126\n",
      " 1.61834139 1.72007138 1.6403179  1.84128717 1.87422122 1.93128742\n",
      " 1.95814166 1.82938637 1.57523955 1.94096024 1.61221536 1.70017914\n",
      " 1.99172496 1.89796478 2.00586347 1.84935155 2.01440028 2.15094024\n",
      " 1.6509501  2.1800932  1.62009975 2.01587928 1.93430295 1.72907719\n",
      " 1.93986169 2.05020694 1.88155613 1.93695169 2.30609223 2.23509247\n",
      " 2.13253876 1.7697983  2.09813799 1.8954934  2.15961295 1.86927806\n",
      " 2.24544679 2.16226594 2.06325808 2.61177976 2.30495667 2.29854183\n",
      " 1.85791984 2.25897007 2.32383211 2.26171159 1.91987956 2.66056969\n",
      " 2.76623201 2.22711234 2.06041422 2.7716031  2.32429035 2.30828354\n",
      " 2.64175076 2.42795744 2.31973256 2.79545242 2.31634613]\n"
     ]
    }
   ],
   "source": [
    "#Todo: Part a\n",
    "x = np.linspace(0,1,101)\n",
    "print(\"x:\",x)\n",
    "\n",
    "#size = (len(x),1)\n",
    "z = np.random.uniform(0, 1, 101)\n",
    "#print(z)\n",
    "\n",
    "y = 1 + x + x*z\n",
    "print(\"y:\",y)"
   ]
  },
  {
   "cell_type": "markdown",
   "metadata": {},
   "source": [
    "(b) Create a matrix A whose first column is the vector x above, and it's second column is the ones vector."
   ]
  },
  {
   "cell_type": "code",
   "execution_count": 3,
   "metadata": {},
   "outputs": [],
   "source": [
    "# TODO Part (b): Assemble matrix A\n",
    "ones = np.ones(len(x))\n",
    "A = np.stack((x,ones),axis=1)\n",
    "# print(A)\n",
    "\n",
    "# turn y into a column vector\n",
    "y = y[:, np.newaxis]\n",
    "# print(y.shape)"
   ]
  },
  {
   "cell_type": "markdown",
   "metadata": {},
   "source": [
    "(c) Solve the ordinary least squares problem to obtain a vector w of coefficients."
   ]
  },
  {
   "cell_type": "code",
   "execution_count": 4,
   "metadata": {},
   "outputs": [
    {
     "name": "stdout",
     "output_type": "stream",
     "text": [
      "[[1.46762075]\n",
      " [1.03081537]]\n"
     ]
    }
   ],
   "source": [
    "# TODO: Part (c)\n",
    "w = np.dot(np.linalg.pinv(A),y)\n",
    "print(w)"
   ]
  },
  {
   "cell_type": "markdown",
   "metadata": {},
   "source": [
    "(d) Plot the training data (x,y) as blue dots and the learned function as a red line"
   ]
  },
  {
   "cell_type": "code",
   "execution_count": 5,
   "metadata": {},
   "outputs": [
    {
     "data": {
      "image/png": "[encoded data removed]",
      "text/plain": [
       "<Figure size 432x288 with 1 Axes>"
      ]
     },
     "metadata": {
      "needs_background": "light"
     },
     "output_type": "display_data"
    }
   ],
   "source": [
    "# TODO: Part (d)\n",
    "#print(x)\n",
    "#print(y)\n",
    "plt.scatter(x,y, label=\"training data\")\n",
    "plt.plot(x,np.dot(A,w), color='red', label=\"learned function\")\n",
    "plt.legend()\n",
    "plt.show()"
   ]
  },
  {
   "cell_type": "markdown",
   "metadata": {},
   "source": [
    "# System Identification"
   ]
  },
  {
   "cell_type": "markdown",
   "metadata": {},
   "source": [
    "Making autonomous vehicles involves machine learning for different purposes. One of which is learning how cars actually behave based on their data.\n",
    "\n",
    "**Setup for parts (a) and (b):** Assume that $x_t$ is the position of a car and obeys the following linear dynamics $$x_{t+1} = A^* x_t + B^* u_t $$\n",
    "\n",
    "We do not know the matrices $A^*$ and $B^*$. But we have data about the cars position for timesteps $1 \\ldots T$. We want to use this data to infer the underlying dynamics."
   ]
  },
  {
   "cell_type": "markdown",
   "metadata": {},
   "source": [
    "## Scalar Least Squares"
   ]
  },
  {
   "cell_type": "markdown",
   "metadata": {},
   "source": [
    "First, we consider the simpler case where $x_t \\in \\mathbb{R}$ and $A^*, B^*$ are scalars as well."
   ]
  },
  {
   "cell_type": "markdown",
   "metadata": {},
   "source": [
    "(a) Consider the time sequence of scalars $x_t \\in \\mathbb{R}$ and $u_t \\in \\mathbb{R}$ in which $x_{t + 1} ≈ A x_t + B u_t$. In control theory, $x_t$ usually represents the state, and $u_t$ usually represents the control input. Find and output the numbers $A$ and $B$ so that $\\sum_t (x_{t +1} − Axt − But)^2$ is minimized. The values of x_t and u_t are stored in a.mat."
   ]
  },
  {
   "cell_type": "code",
   "execution_count": 6,
   "metadata": {},
   "outputs": [
    {
     "name": "stdout",
     "output_type": "stream",
     "text": [
      "A: 0.9775521351844118\n",
      "B: -0.08775321877345647\n"
     ]
    },
    {
     "name": "stderr",
     "output_type": "stream",
     "text": [
      "C:\\Users\\jasmi\\AppData\\Local\\Temp\\ipykernel_26128\\1537915745.py:10: FutureWarning: `rcond` parameter will change to the default of machine precision times ``max(M, N)`` where M and N are the input matrix dimensions.\n",
      "To use the future default and silence this warning we advise to pass `rcond=None`, to keep using the old, explicitly pass `rcond=-1`.\n",
      "  w = np.linalg.lstsq(v,x[0][1:])[0]\n"
     ]
    }
   ],
   "source": [
    "mdict = io.loadmat(\"a.mat\")\n",
    "\n",
    "x = mdict['x']\n",
    "u = mdict['u']\n",
    "\n",
    "# TODO: Your code to compute a and b\n",
    "#print(x.shape)\n",
    "v = np.stack((x[0][:-1],u[0][:-1]), axis=-1)\n",
    "\n",
    "w = np.linalg.lstsq(v,x[0][1:])[0]\n",
    "# print(w)\n",
    "\n",
    "print(\"A:\", w[0])\n",
    "print(\"B:\", w[1])\n",
    "    "
   ]
  },
  {
   "cell_type": "markdown",
   "metadata": {},
   "source": [
    "## Matrix least squares"
   ]
  },
  {
   "cell_type": "markdown",
   "metadata": {},
   "source": [
    "(b) Consider the time sequences of vectors $x_t \\in \\mathbb{R}^3$ and $u_t \\in \\mathbb{R}^3$ in which $x_{t + 1} ≈ Axt + But$ . Find and output the matrix $A \\in \\mathbb{R}^{3×3}$ and $B \\in \\mathbb{R}^{3×3}$ so that the sum of the squared $l_2$-norms of the error, \n",
    "$$\\sum_t \\| x_{t+1} − A x_t −B u_t \\|_2^2 $$\n",
    "is minimized. The values of x_t and u_t are stored in b.mat."
   ]
  },
  {
   "cell_type": "code",
   "execution_count": 7,
   "metadata": {},
   "outputs": [
    {
     "name": "stdout",
     "output_type": "stream",
     "text": [
      "[[ 0.15207406  0.03893567 -0.52552959]\n",
      " [ 0.93480864  0.30958727  0.0540906 ]\n",
      " [-0.00110243  0.87436511 -0.47026217]\n",
      " [ 0.04894161 -0.04524735  0.91096923]\n",
      " [ 0.20568264 -0.92861546 -0.47124981]\n",
      " [-0.37090438  0.12756569 -0.84222314]]\n"
     ]
    },
    {
     "name": "stderr",
     "output_type": "stream",
     "text": [
      "C:\\Users\\jasmi\\AppData\\Local\\Temp\\ipykernel_26128\\4061058529.py:11: FutureWarning: `rcond` parameter will change to the default of machine precision times ``max(M, N)`` where M and N are the input matrix dimensions.\n",
      "To use the future default and silence this warning we advise to pass `rcond=None`, to keep using the old, explicitly pass `rcond=-1`.\n",
      "  w = np.linalg.lstsq(v,x[1:])[0]\n"
     ]
    }
   ],
   "source": [
    "mdict = io.loadmat(\"b.mat\")\n",
    "\n",
    "x = mdict['x']\n",
    "u = mdict['u']\n",
    "\n",
    "x = x.reshape(x.shape[:-1])\n",
    "u = u.reshape(u.shape[:-1])\n",
    "\n",
    "# TODO: Your code to compute A, \n",
    "v = np.hstack((x[:-1], u[:-1]))\n",
    "w = np.linalg.lstsq(v,x[1:])[0]\n",
    "print(w)\n",
    "\n",
    "# checking\n",
    "# c = np.dot(v,w)\n",
    "# print(\"c: \")\n",
    "# print(c[0:4])\n",
    "# print(\"x: \")\n",
    "# print(x[1:5])\n"
   ]
  },
  {
   "cell_type": "markdown",
   "metadata": {},
   "source": [
    "## Acceleration model"
   ]
  },
  {
   "cell_type": "markdown",
   "metadata": {},
   "source": [
    "(c) Consider a car following model that models how cars line up on a straight 1D highway at a given time. The acceleration of a car can be approximated by a linear function of the positions and velocities of its own and the car in front of it. Mathematically, we can formulate this as\n",
    "\n",
    "$$\n",
    "\\ddot{x}_{i} \\approx a x_{i}+b \\dot{x}_{i}+c x_{i-1}+d \\dot{x}_{i-1}+e\n",
    "$$\n",
    "\n",
    "where $x_{i}, \\dot{x}_{i}$, and $\\ddot{x}_{i}$ are the position, velocity, and acceleration of the $i$ th car in the line.\n",
    "Find $a, b, c, d$, and $e$ that minimize\n",
    "\n",
    "$$\n",
    "\\sum_{i}\\left\\|-\\ddot{x}_{i}+a x_{i}+b \\dot{x}_{i}+c x_{i-1}+d \\dot{x}_{i-1}+e\\right\\|_{2}^{2}\n",
    "$$\n",
    "\n",
    "using data file train. mat, which contains the status of 40000 cars at a given point from the I- 80 highway in California. The data were sampled from the Next Generation Simulation (NGSIM) dataset so that the $i$ may not be continuous. For your convenience, we give you the profiles of each sampled car and the car that is in front of it."
   ]
  },
  {
   "cell_type": "code",
   "execution_count": 8,
   "metadata": {},
   "outputs": [
    {
     "name": "stdout",
     "output_type": "stream",
     "text": [
      "(40000, 5)\n",
      "(40000, 1)\n",
      "a:  [-0.01152121]\n",
      "b:  [-0.31779341]\n",
      "c:  [0.01128933]\n",
      "d:  [0.27535824]\n",
      "e:  [-0.88293502]\n",
      "first few predicted: [ 0.21071292  0.9001815  -0.30710525 -1.2498371 ]\n",
      "first few data: [-0.21320313  0.03931307 -0.5287676  -3.81097518]\n"
     ]
    },
    {
     "name": "stderr",
     "output_type": "stream",
     "text": [
      "C:\\Users\\jasmi\\AppData\\Local\\Temp\\ipykernel_26128\\805487810.py:21: FutureWarning: `rcond` parameter will change to the default of machine precision times ``max(M, N)`` where M and N are the input matrix dimensions.\n",
      "To use the future default and silence this warning we advise to pass `rcond=None`, to keep using the old, explicitly pass `rcond=-1`.\n",
      "  w = np.linalg.lstsq(u,acc)[0]\n"
     ]
    }
   ],
   "source": [
    "# TODO: Solve part (c)\n",
    "mdict = io.loadmat(\"train.mat\")\n",
    "\n",
    "# Assemble xu matrix\n",
    "x = mdict[\"x\"]   # position of a car\n",
    "v = mdict[\"xd\"]  # velocity of the car\n",
    "xprev = mdict[\"xp\"]   # position of the car ahead\n",
    "vprev = mdict[\"xdp\"]  # velocity of the car ahead\n",
    "\n",
    "acc = mdict[\"xdd\"]  # acceleration of the car\n",
    "\n",
    "a, b, c, d, e = 0, 0, 0, 0, 0\n",
    "\n",
    "# Your code to compute a, b, c, d, e\n",
    "e = np.ones(len(x[0]))\n",
    "e = e[np.newaxis, :]\n",
    "\n",
    "u = np.concatenate((x,v,xprev,vprev,e))\n",
    "u = np.transpose(u)\n",
    "acc = np.transpose(acc)\n",
    "w = np.linalg.lstsq(u,acc)[0]\n",
    "print(u.shape)\n",
    "print(acc.shape)\n",
    "\n",
    "a = w[0]\n",
    "b = w[1]\n",
    "c = w[2]\n",
    "d = w[3]\n",
    "e = w[4]\n",
    "\n",
    "print(\"a: \",a)\n",
    "print(\"b: \",b)\n",
    "print(\"c: \",c)\n",
    "print(\"d: \",d)\n",
    "print(\"e: \",e)\n",
    "\n",
    "# checking prediction with data\n",
    "c = np.dot(u,w)\n",
    "c = np.transpose(c)\n",
    "print(\"first few predicted:\",c[0][0:4])\n",
    "\n",
    "print(\"first few data:\",mdict[\"xdd\"][0][0:4])"
   ]
  },
  {
   "cell_type": "code",
   "execution_count": null,
   "metadata": {},
   "outputs": [],
   "source": []
  }
 ],
 "metadata": {
  "kernelspec": {
   "display_name": "Python 3",
   "language": "python",
   "name": "python3"
  },
  "language_info": {
   "codemirror_mode": {
    "name": "ipython",
    "version": 3
   },
   "file_extension": ".py",
   "mimetype": "text/x-python",
   "name": "python",
   "nbconvert_exporter": "python",
   "pygments_lexer": "ipython3",
   "version": "3.9.6"
  }
 },
 "nbformat": 4,
 "nbformat_minor": 2
}
