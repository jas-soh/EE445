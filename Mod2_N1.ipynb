{
 "cells": [
  {
   "cell_type": "code",
   "execution_count": 167,
   "metadata": {},
   "outputs": [],
   "source": [
    "import numpy as np\n",
    "import matplotlib.pyplot as plt\n",
    "from scipy import io"
   ]
  },
  {
   "cell_type": "markdown",
   "metadata": {},
   "source": [
    "# Warmup: Least Squares with 2d synthetic data"
   ]
  },
  {
   "cell_type": "markdown",
   "metadata": {},
   "source": [
    "We will start with a simple least squares example on synthetic data with the goal of visualization.\n",
    "\n",
    "(a) Create a vector of inputs x with 101 regularly-spaced entries between 0 and 1. \n",
    "\n",
    "Create a vector of labels y = 1 + x + x*z, where z is drawn from the uniform distribution on the half open interval [0, 1)."
   ]
  },
  {
   "cell_type": "code",
   "execution_count": 168,
   "metadata": {},
   "outputs": [
    {
     "name": "stdout",
     "output_type": "stream",
     "text": [
      "x: [0.   0.01 0.02 0.03 0.04 0.05 0.06 0.07 0.08 0.09 0.1  0.11 0.12 0.13\n",
      " 0.14 0.15 0.16 0.17 0.18 0.19 0.2  0.21 0.22 0.23 0.24 0.25 0.26 0.27\n",
      " 0.28 0.29 0.3  0.31 0.32 0.33 0.34 0.35 0.36 0.37 0.38 0.39 0.4  0.41\n",
      " 0.42 0.43 0.44 0.45 0.46 0.47 0.48 0.49 0.5  0.51 0.52 0.53 0.54 0.55\n",
      " 0.56 0.57 0.58 0.59 0.6  0.61 0.62 0.63 0.64 0.65 0.66 0.67 0.68 0.69\n",
      " 0.7  0.71 0.72 0.73 0.74 0.75 0.76 0.77 0.78 0.79 0.8  0.81 0.82 0.83\n",
      " 0.84 0.85 0.86 0.87 0.88 0.89 0.9  0.91 0.92 0.93 0.94 0.95 0.96 0.97\n",
      " 0.98 0.99 1.  ]\n",
      "y: [1.         1.01319842 1.02152938 1.04824198 1.04227033 1.06510716\n",
      " 1.08451233 1.07603568 1.09512246 1.15942094 1.15682669 1.13855437\n",
      " 1.12662691 1.15051254 1.17908454 1.25778915 1.23230087 1.19045145\n",
      " 1.30239869 1.2302262  1.32882835 1.29367147 1.40485076 1.3832896\n",
      " 1.33544642 1.30244897 1.47686172 1.4010588  1.40874116 1.44759458\n",
      " 1.51614554 1.55668799 1.61151347 1.38362892 1.5958996  1.4055595\n",
      " 1.58537501 1.48316732 1.54706038 1.65216924 1.62450274 1.61586404\n",
      " 1.44296706 1.59192434 1.79022501 1.82822258 1.8300402  1.66626672\n",
      " 1.91431361 1.66200432 1.92117379 1.93502515 1.85683538 1.71838499\n",
      " 1.63527522 1.67409083 1.84866401 1.8569426  1.64101443 1.91893358\n",
      " 1.91834842 1.67923474 2.05971529 2.09072016 1.79485038 1.66823422\n",
      " 1.94359098 2.33080302 1.85653149 2.0908737  2.35162825 1.99798894\n",
      " 2.29531771 2.1291407  1.75665147 2.22503899 2.44471201 2.07681498\n",
      " 2.46620961 1.83927111 2.2699625  1.9818819  1.85604405 1.83776915\n",
      " 2.40438102 2.0787977  2.56602029 1.99188874 2.096384   2.65957935\n",
      " 2.2506685  2.23762938 2.43224585 2.84029814 2.74860596 2.87727\n",
      " 2.59002868 1.98070979 2.52289239 2.16206037 2.66406474]\n"
     ]
    }
   ],
   "source": [
    "#Todo: Part a\n",
    "x = np.linspace(0,1,101)\n",
    "print(\"x:\",x)\n",
    "\n",
    "#size = (len(x),1)\n",
    "z = np.random.uniform(0, 1, 101)\n",
    "#print(z)\n",
    "\n",
    "y = 1 + x + x*z\n",
    "print(\"y:\",y)"
   ]
  },
  {
   "cell_type": "markdown",
   "metadata": {},
   "source": [
    "(b) Create a matrix A whose first column is the vector x above, and it's second column is the ones vector."
   ]
  },
  {
   "cell_type": "code",
   "execution_count": 169,
   "metadata": {},
   "outputs": [],
   "source": [
    "# TODO Part (b): Assemble matrix A\n",
    "ones = np.ones(len(x))\n",
    "A = np.stack((x,ones),axis=1)\n",
    "# print(A)\n",
    "\n",
    "# turn y into a column vector\n",
    "y = y[:, np.newaxis]\n",
    "# print(y.shape)"
   ]
  },
  {
   "cell_type": "markdown",
   "metadata": {},
   "source": [
    "(c) Solve the ordinary least squares problem to obtain a vector w of coefficients."
   ]
  },
  {
   "cell_type": "code",
   "execution_count": 170,
   "metadata": {},
   "outputs": [
    {
     "name": "stdout",
     "output_type": "stream",
     "text": [
      "[[1.50359678]\n",
      " [0.99798119]]\n"
     ]
    }
   ],
   "source": [
    "# TODO: Part (c)\n",
    "w = np.dot(np.linalg.pinv(A),y)\n",
    "print(w)"
   ]
  },
  {
   "cell_type": "markdown",
   "metadata": {},
   "source": [
    "(d) Plot the training data (x,y) as blue dots and the learned function as a red line"
   ]
  },
  {
   "cell_type": "code",
   "execution_count": 171,
   "metadata": {},
   "outputs": [
    {
     "data": {
      "image/png": "[encoded data removed]",
      "text/plain": [
       "<Figure size 432x288 with 1 Axes>"
      ]
     },
     "metadata": {
      "needs_background": "light"
     },
     "output_type": "display_data"
    }
   ],
   "source": [
    "# TODO: Part (d)\n",
    "#print(x)\n",
    "#print(y)\n",
    "plt.scatter(x,y, label=\"training data\")\n",
    "plt.plot(x,np.dot(A,w), color='red', label=\"learned function\")\n",
    "plt.legend()\n",
    "plt.show()"
   ]
  },
  {
   "cell_type": "markdown",
   "metadata": {},
   "source": [
    "# System Identification"
   ]
  },
  {
   "cell_type": "markdown",
   "metadata": {},
   "source": [
    "Making autonomous vehicles involves machine learning for different purposes. One of which is learning how cars actually behave based on their data.\n",
    "\n",
    "**Setup for parts (a) and (b):** Assume that $x_t$ is the position of a car and obeys the following linear dynamics $$x_{t+1} = A^* x_t + B^* u_t $$\n",
    "\n",
    "We do not know the matrices $A^*$ and $B^*$. But we have data about the cars position for timesteps $1 \\ldots T$. We want to use this data to infer the underlying dynamics."
   ]
  },
  {
   "cell_type": "markdown",
   "metadata": {},
   "source": [
    "## Scalar Least Squares"
   ]
  },
  {
   "cell_type": "markdown",
   "metadata": {},
   "source": [
    "First, we consider the simpler case where $x_t \\in \\mathbb{R}$ and $A^*, B^*$ are scalars as well."
   ]
  },
  {
   "cell_type": "markdown",
   "metadata": {},
   "source": [
    "(a) Consider the time sequence of scalars $x_t \\in \\mathbb{R}$ and $u_t \\in \\mathbb{R}$ in which $x_{t + 1} ≈ A x_t + B u_t$. In control theory, $x_t$ usually represents the state, and $u_t$ usually represents the control input. Find and output the numbers $A$ and $B$ so that $\\sum_t (x_{t +1} − Axt − But)^2$ is minimized. The values of x_t and u_t are stored in a.mat."
   ]
  },
  {
   "cell_type": "code",
   "execution_count": 172,
   "metadata": {},
   "outputs": [
    {
     "name": "stdout",
     "output_type": "stream",
     "text": [
      "A: 0.9775521351844118\n",
      "B: -0.08775321877345668\n"
     ]
    }
   ],
   "source": [
    "mdict = io.loadmat(\"a.mat\")\n",
    "\n",
    "x = mdict['x']\n",
    "u = mdict['u']\n",
    "\n",
    "# TODO: Your code to compute a and b\n",
    "#print(x.shape)\n",
    "v = np.stack((x[0][:-1],u[0][:-1]), axis=-1)\n",
    "\n",
    "w = np.dot(np.linalg.pinv(v),x[0][1:])\n",
    "# print(w)\n",
    "\n",
    "print(\"A:\", w[0])\n",
    "print(\"B:\", w[1])\n",
    "    "
   ]
  },
  {
   "cell_type": "markdown",
   "metadata": {},
   "source": [
    "## Matrix least squares"
   ]
  },
  {
   "cell_type": "markdown",
   "metadata": {},
   "source": [
    "(b) Consider the time sequences of vectors $x_t \\in \\mathbb{R}^3$ and $u_t \\in \\mathbb{R}^3$ in which $x_{t + 1} ≈ Axt + But$ . Find and output the matrix $A \\in \\mathbb{R}^{3×3}$ and $B \\in \\mathbb{R}^{3×3}$ so that the sum of the squared $l_2$-norms of the error, \n",
    "$$\\sum_t \\| x_{t+1} − A x_t −B u_t \\|_2^2 $$\n",
    "is minimized. The values of x_t and u_t are stored in b.mat."
   ]
  },
  {
   "cell_type": "code",
   "execution_count": 173,
   "metadata": {},
   "outputs": [
    {
     "name": "stdout",
     "output_type": "stream",
     "text": [
      "[[ 0.15207406  0.03893567 -0.52552959]\n",
      " [ 0.93480864  0.30958727  0.0540906 ]\n",
      " [-0.00110243  0.87436511 -0.47026217]\n",
      " [ 0.04894161 -0.04524735  0.91096923]\n",
      " [ 0.20568264 -0.92861546 -0.47124981]\n",
      " [-0.37090438  0.12756569 -0.84222314]]\n"
     ]
    }
   ],
   "source": [
    "mdict = io.loadmat(\"b.mat\")\n",
    "\n",
    "x = mdict['x']\n",
    "u = mdict['u']\n",
    "\n",
    "x = x.reshape(x.shape[:-1])\n",
    "u = u.reshape(u.shape[:-1])\n",
    "\n",
    "# TODO: Your code to compute A, \n",
    "v = np.hstack((x[:-1], u[:-1]))\n",
    "w = np.dot(np.linalg.pinv(v),x[1:])\n",
    "print(w)\n",
    "\n",
    "# checking\n",
    "# c = np.dot(v,w)\n",
    "# print(\"c: \")\n",
    "# print(c[0:4])\n",
    "# print(\"x: \")\n",
    "# print(x[1:5])\n"
   ]
  },
  {
   "cell_type": "markdown",
   "metadata": {},
   "source": [
    "## Acceleration model"
   ]
  },
  {
   "cell_type": "markdown",
   "metadata": {},
   "source": [
    "(c) Consider a car following model that models how cars line up on a straight 1D highway at a given time. The acceleration of a car can be approximated by a linear function of the positions and velocities of its own and the car in front of it. Mathematically, we can formulate this as\n",
    "\n",
    "$$\n",
    "\\ddot{x}_{i} \\approx a x_{i}+b \\dot{x}_{i}+c x_{i-1}+d \\dot{x}_{i-1}+e\n",
    "$$\n",
    "\n",
    "where $x_{i}, \\dot{x}_{i}$, and $\\ddot{x}_{i}$ are the position, velocity, and acceleration of the $i$ th car in the line.\n",
    "Find $a, b, c, d$, and $e$ that minimize\n",
    "\n",
    "$$\n",
    "\\sum_{i}\\left\\|-\\ddot{x}_{i}+a x_{i}+b \\dot{x}_{i}+c x_{i-1}+d \\dot{x}_{i-1}+e\\right\\|_{2}^{2}\n",
    "$$\n",
    "\n",
    "using data file train. mat, which contains the status of 40000 cars at a given point from the I- 80 highway in California. The data were sampled from the Next Generation Simulation (NGSIM) dataset so that the $i$ may not be continuous. For your convenience, we give you the profiles of each sampled car and the car that is in front of it."
   ]
  },
  {
   "cell_type": "code",
   "execution_count": 174,
   "metadata": {},
   "outputs": [
    {
     "name": "stdout",
     "output_type": "stream",
     "text": [
      "a:  [-0.01152121]\n",
      "b:  [-0.31779341]\n",
      "c:  [0.01128933]\n",
      "d:  [0.27535824]\n",
      "e:  [-0.88293502]\n",
      "predicted: [ 0.21071292  0.9001815  -0.30710525 -1.2498371 ]\n",
      "data: [-0.21320313  0.03931307 -0.5287676  -3.81097518]\n"
     ]
    }
   ],
   "source": [
    "# TODO: Solve part (c)\n",
    "mdict = io.loadmat(\"train.mat\")\n",
    "\n",
    "# Assemble xu matrix\n",
    "x = mdict[\"x\"]   # position of a car\n",
    "v = mdict[\"xd\"]  # velocity of the car\n",
    "xprev = mdict[\"xp\"]   # position of the car ahead\n",
    "vprev = mdict[\"xdp\"]  # velocity of the car ahead\n",
    "\n",
    "acc = mdict[\"xdd\"]  # acceleration of the car\n",
    "\n",
    "a, b, c, d, e = 0, 0, 0, 0, 0\n",
    "\n",
    "# Your code to compute a, b, c, d, e\n",
    "e = np.ones(len(x[0]))\n",
    "e = e[np.newaxis, :]\n",
    "\n",
    "u = np.concatenate((x,v,xprev,vprev,e))\n",
    "u = np.transpose(u)\n",
    "acc = np.transpose(acc)\n",
    "w = np.dot(np.linalg.pinv(u),acc)\n",
    "\n",
    "a = w[0]\n",
    "b = w[1]\n",
    "c = w[2]\n",
    "d = w[3]\n",
    "e = w[4]\n",
    "\n",
    "print(\"a: \",a)\n",
    "print(\"b: \",b)\n",
    "print(\"c: \",c)\n",
    "print(\"d: \",d)\n",
    "print(\"e: \",e)\n",
    "\n",
    "# checking prediction with data\n",
    "c = np.dot(u,w)\n",
    "c = np.transpose(c)\n",
    "print(\"predicted:\",c[0][0:4])\n",
    "\n",
    "print(\"data:\",mdict[\"xdd\"][0][0:4])"
   ]
  },
  {
   "cell_type": "code",
   "execution_count": null,
   "metadata": {},
   "outputs": [],
   "source": []
  }
 ],
 "metadata": {
  "kernelspec": {
   "display_name": "Python 3",
   "language": "python",
   "name": "python3"
  },
  "language_info": {
   "codemirror_mode": {
    "name": "ipython",
    "version": 3
   },
   "file_extension": ".py",
   "mimetype": "text/x-python",
   "name": "python",
   "nbconvert_exporter": "python",
   "pygments_lexer": "ipython3",
   "version": "3.9.6"
  }
 },
 "nbformat": 4,
 "nbformat_minor": 2
}
